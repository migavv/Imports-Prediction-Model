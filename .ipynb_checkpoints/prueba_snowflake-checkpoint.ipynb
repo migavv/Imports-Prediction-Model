{
 "cells": [
  {
   "cell_type": "code",
   "execution_count": 2,
   "metadata": {},
   "outputs": [],
   "source": [
    "import os\n",
    "import pandas as pd\n",
    "# from pandas.io import sql as psql\n",
    "import snowflake.connector\n",
    "import matplotlib.pyplot as plt\n",
    "import seaborn as sns"
   ]
  },
  {
   "cell_type": "code",
   "execution_count": 3,
   "metadata": {},
   "outputs": [],
   "source": [
    "DF = pd.DataFrame\n",
    "ColName = str\n",
    "url = 'pm09030.east-us-2.azure.snowflakecomputing.com'\n",
    "class Snowflake:\n",
    "    def __init__(self, database='IMPORTACIONES', db_schema='PUBLIC') -> None:\n",
    "        self.user = 'proyecto4'\n",
    "        self.password = 'Proyecto4*'\n",
    "        self.account = 'pm09030.east-us-2.azure'\n",
    "        self.warehouse = 'COMPUTE_WH'\n",
    "        self.role = 'ACCOUNTADMIN'\n",
    "        engine = snowflake.connector.connect(\n",
    "            account=self.account,\n",
    "            user=self.user,\n",
    "            password=self.password,\n",
    "            database=database,\n",
    "            schema=db_schema,\n",
    "            warehouse=self.warehouse,\n",
    "            role=self.role,\n",
    "        )\n",
    "        try:\n",
    "            self.connection = engine\n",
    "        except Exception as err:\n",
    "            print(\"I am unable to connect to the database, {}\".format(err))\n",
    "            raise err\n",
    "\n",
    "    def read_sql(self, sql: str, params=None) -> DF:\n",
    "        if params is None:\n",
    "            params = {}\n",
    "        cs = self.connection.cursor()\n",
    "        try:\n",
    "            cs.execute(sql.format(**params))\n",
    "            self.data = cs.fetch_pandas_all()\n",
    "        finally:\n",
    "            cs.close()\n",
    "        return self.data\n",
    "    def execute_sp_function(self, function_name, params=[]):\n",
    "        connection = self.connection\n",
    "        try:\n",
    "            cursor = connection.cursor()\n",
    "            cursor.execute(function_name, params)\n",
    "            cursor.close()\n",
    "            connection.commit()\n",
    "            connection.close()\n",
    "        except:\n",
    "            connection.close()\n",
    "            raise\n",
    "    def execute_statement(self, sql_statement):\n",
    "        \"\"\"\n",
    "        Executes non result returning statement\n",
    "        :param sql_statement: sql to execute\n",
    "        :return: void\n",
    "        \"\"\"\n",
    "        connection = self.connection\n",
    "        try:\n",
    "            with connection.cursor() as cursor:\n",
    "                cursor.execute(sql_statement)\n",
    "        except Exception as e:\n",
    "            connection.close()\n",
    "            raise Exception(str(e))\n",
    "    def set_session(self, tag):\n",
    "        \"\"\"\n",
    "        Set the query tag in the current session\n",
    "        \"\"\"\n",
    "        query_tag = f'ALTER SESSION SET QUERY_TAG = \"{tag}\"'\n",
    "        self.execute_statement(query_tag)\n",
    "    def insert_dataframe_bulk(self, df_to_insert, dest_table, mode, db_schema, flag=False):\n",
    "        \"\"\"\n",
    "        function to save dataframes to tables using snowflake copy clause with parquet files\n",
    "        this is a slightly modified version of snowflake.connector.pandas with the to_parquet date truncating issue solved\n",
    "        :param df_to_insert: dataframe to insert\n",
    "        :param dest_table: name of the table\n",
    "        :param mode: append,fail or replace\n",
    "        :param db_schema: schema of the destination table\n",
    "        :return: None\n",
    "        \"\"\"\n",
    "        if len(df_to_insert) == 0:\n",
    "            return\n",
    "        connection = self.connection\n",
    "        compression = 'gzip'\n",
    "        compression_map = {\n",
    "            'gzip': 'auto',\n",
    "            'snappy': 'snappy'\n",
    "        }\n",
    "        # on_error = 'abort_statement'\n",
    "        stage_name = dest_table.upper()\n",
    "        path = f'/tmp/{dest_table}.parquet.{compression}'\n",
    "        if mode == 'replace':\n",
    "            if flag:\n",
    "                self.execute_statement(\n",
    "                    f'drop table if exists {db_schema}.{stage_name}')\n",
    "                self.execute_statement(pd.io.sql.get_schema(\n",
    "                    df_to_insert, stage_name).replace('\"', ''))\n",
    "            else:\n",
    "                \"\"\"\n",
    "                ALERT: 2022-06-14\n",
    "                This function is deprecated because pandas.DataFrame.to_sql use a sqlAlchemy connection\n",
    "                Always set the flag argument True\n",
    "                \"\"\"\n",
    "                df_to_insert.head(0).to_sql(dest_table.lower(), con=self.connection, index=False, schema=db_schema,\n",
    "                                            if_exists=mode)\n",
    "        with connection.cursor() as cursor:\n",
    "            try:\n",
    "                # create stage\n",
    "                try:\n",
    "                    create_stage_sql = (\n",
    "                        'create stage {db_schema}.{stage_name}').format(stage_name=stage_name, db_schema=db_schema)\n",
    "                    cursor.execute(create_stage_sql)\n",
    "                    connection.commit()\n",
    "                except Exception as pe:\n",
    "                    if pe.msg.endswith('already exists.'):\n",
    "                        pass\n",
    "                # saves parquet locally\n",
    "                # using fastparquet because in auto and pyarrow engines datetimes are processed wrong\n",
    "                # when using auto (default) engine, use these parameters to get the right datetimes in tables:\n",
    "                # allow_truncated_timestamps=True, use_deprecated_int96_timestamps=True\n",
    "                df_to_insert.to_parquet(path, engine='auto',  compression=compression, index=False,\n",
    "                                        allow_truncated_timestamps=True, use_deprecated_int96_timestamps=True)\n",
    "                # takes local parquet to snowflake stage area .4 parallel processes to load (default)\n",
    "                upload_sql = ('PUT file://{path} @%{stage_name} PARALLEL={parallel}').format(\n",
    "                    path=path,\n",
    "                    stage_name=stage_name,\n",
    "                    parallel=4\n",
    "                )\n",
    "                cursor.execute(upload_sql)\n",
    "                connection.commit()\n",
    "                # copy from stage to table\n",
    "                copy_into_sql = 'COPY INTO {stage_name} MATCH_BY_COLUMN_NAME=CASE_INSENSITIVE ' \\\n",
    "                    'PURGE=TRUE FILE_FORMAT=(TYPE=PARQUET COMPRESSION={compression})'.format(\n",
    "                        stage_name=stage_name,\n",
    "                        compression=compression_map[compression])\n",
    "                cursor.execute(copy_into_sql, _is_internal=True)\n",
    "                connection.commit()\n",
    "                os.remove(path)\n",
    "                #connection.close()\n",
    "            except Exception as e:\n",
    "                connection.close()\n",
    "                raise Exception(e)"
   ]
  },
  {
   "cell_type": "code",
   "execution_count": 3,
   "metadata": {},
   "outputs": [],
   "source": [
    "db_obj = Snowflake()"
   ]
  },
  {
   "cell_type": "code",
   "execution_count": 34,
   "metadata": {},
   "outputs": [],
   "source": [
    "df = db_obj.read_sql(\"SELECT * FROM PUBLIC.IMPORTS WHERE LEFT(ID,2)='72'\")"
   ]
  },
  {
   "cell_type": "code",
   "execution_count": 36,
   "metadata": {},
   "outputs": [],
   "source": [
    "df['FECHA'] = pd.to_datetime(df['FECHA'])"
   ]
  },
  {
   "cell_type": "code",
   "execution_count": 37,
   "metadata": {},
   "outputs": [
    {
     "data": {
      "text/html": [
       "<div>\n",
       "<style scoped>\n",
       "    .dataframe tbody tr th:only-of-type {\n",
       "        vertical-align: middle;\n",
       "    }\n",
       "\n",
       "    .dataframe tbody tr th {\n",
       "        vertical-align: top;\n",
       "    }\n",
       "\n",
       "    .dataframe thead th {\n",
       "        text-align: right;\n",
       "    }\n",
       "</style>\n",
       "<table border=\"1\" class=\"dataframe\">\n",
       "  <thead>\n",
       "    <tr style=\"text-align: right;\">\n",
       "      <th></th>\n",
       "      <th>FECHA</th>\n",
       "      <th>ID</th>\n",
       "      <th>VALOR_USD</th>\n",
       "    </tr>\n",
       "  </thead>\n",
       "  <tbody>\n",
       "    <tr>\n",
       "      <th>0</th>\n",
       "      <td>2022-03-26</td>\n",
       "      <td>7222201000</td>\n",
       "      <td>79</td>\n",
       "    </tr>\n",
       "    <tr>\n",
       "      <th>1</th>\n",
       "      <td>2022-03-26</td>\n",
       "      <td>7216210000</td>\n",
       "      <td>1962</td>\n",
       "    </tr>\n",
       "    <tr>\n",
       "      <th>2</th>\n",
       "      <td>2022-03-26</td>\n",
       "      <td>7208900000</td>\n",
       "      <td>41162</td>\n",
       "    </tr>\n",
       "    <tr>\n",
       "      <th>3</th>\n",
       "      <td>2022-03-26</td>\n",
       "      <td>7202210000</td>\n",
       "      <td>62900</td>\n",
       "    </tr>\n",
       "    <tr>\n",
       "      <th>4</th>\n",
       "      <td>2022-03-26</td>\n",
       "      <td>7204100000</td>\n",
       "      <td>2463</td>\n",
       "    </tr>\n",
       "  </tbody>\n",
       "</table>\n",
       "</div>"
      ],
      "text/plain": [
       "       FECHA          ID  VALOR_USD\n",
       "0 2022-03-26  7222201000         79\n",
       "1 2022-03-26  7216210000       1962\n",
       "2 2022-03-26  7208900000      41162\n",
       "3 2022-03-26  7202210000      62900\n",
       "4 2022-03-26  7204100000       2463"
      ]
     },
     "execution_count": 37,
     "metadata": {},
     "output_type": "execute_result"
    }
   ],
   "source": [
    "df.head()"
   ]
  },
  {
   "cell_type": "code",
   "execution_count": 38,
   "metadata": {},
   "outputs": [
    {
     "data": {
      "text/plain": [
       "(15302, 3)"
      ]
     },
     "execution_count": 38,
     "metadata": {},
     "output_type": "execute_result"
    }
   ],
   "source": [
    "df.shape"
   ]
  },
  {
   "cell_type": "code",
   "execution_count": 40,
   "metadata": {},
   "outputs": [
    {
     "data": {
      "image/png": "[encoded data removed]",
      "text/plain": [
       "<Figure size 2000x600 with 1 Axes>"
      ]
     },
     "metadata": {},
     "output_type": "display_data"
    }
   ],
   "source": [
    "# plt.figure(figsize=(20,4))\n",
    "df.plot.line(x='FECHA',y='VALOR_USD',figsize=(20,6))\n",
    "# plt.ylim(0,100000)\n",
    "plt.show()"
   ]
  },
  {
   "cell_type": "code",
   "execution_count": 48,
   "metadata": {},
   "outputs": [
    {
     "data": {
      "text/plain": [
       "2022-01    1428\n",
       "2022-02    1509\n",
       "2022-03    1216\n",
       "2022-04    1329\n",
       "2022-06    1450\n",
       "2022-07    1350\n",
       "2022-09    1512\n",
       "2022-10    1358\n",
       "2022-11    1402\n",
       "2022-12    1418\n",
       "2023-01    1330\n",
       "Name: FECHA, dtype: int64"
      ]
     },
     "execution_count": 48,
     "metadata": {},
     "output_type": "execute_result"
    }
   ],
   "source": [
    "df['FECHA'].astype(str).str[:7].value_counts().sort_index()"
   ]
  },
  {
   "cell_type": "code",
   "execution_count": null,
   "metadata": {},
   "outputs": [],
   "source": []
  }
 ],
 "metadata": {
  "kernelspec": {
   "display_name": "Python 3 (ipykernel)",
   "language": "python",
   "name": "python3"
  },
  "language_info": {
   "codemirror_mode": {
    "name": "ipython",
    "version": 3
   },
   "file_extension": ".py",
   "mimetype": "text/x-python",
   "name": "python",
   "nbconvert_exporter": "python",
   "pygments_lexer": "ipython3",
   "version": "3.11.4"
  }
 },
 "nbformat": 4,
 "nbformat_minor": 2
}
